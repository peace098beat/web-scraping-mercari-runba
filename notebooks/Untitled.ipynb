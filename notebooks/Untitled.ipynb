{
 "cells": [
  {
   "cell_type": "markdown",
   "id": "86039e0c",
   "metadata": {},
   "source": [
    "# 参考\n",
    "\n",
    "[Pythonのスクレイピングでメルカリの価格相場を調べる方法 - 77Lifeworkベータ版](https://www.77-lifework.com/entry/mercari-market-price)\n",
    "\n",
    "[10分で理解する Selenium - Qiita](https://qiita.com/Chanmoro/items/9a3c86bb465c1cce738a)\n"
   ]
  },
  {
   "cell_type": "code",
   "execution_count": null,
   "id": "e342b476",
   "metadata": {},
   "outputs": [],
   "source": [
    "# pip3 install selenium"
   ]
  },
  {
   "cell_type": "code",
   "execution_count": 19,
   "id": "90a8453e",
   "metadata": {},
   "outputs": [],
   "source": [
    "# from selenium import webdriver\n",
    "\n",
    "# # Chrome のオプションを設定する\n",
    "# options = webdriver.ChromeOptions()\n",
    "# options.add_argument('--headless')\n",
    "\n",
    "# # Selenium Server に接続する\n",
    "# driver = webdriver.Remote(\n",
    "#     command_executor='http://localhost:4444/wd/hub',\n",
    "#     desired_capabilities=options.to_capabilities(),\n",
    "#     options=options,\n",
    "# )\n",
    "\n",
    "# # Selenium 経由でブラウザを操作する\n",
    "# driver.get('https://qiita.com')\n",
    "# print(driver.current_url)\n",
    "\n",
    "# # ブラウザを終了する\n",
    "# driver.quit()"
   ]
  },
  {
   "cell_type": "code",
   "execution_count": 22,
   "id": "54284ced",
   "metadata": {},
   "outputs": [],
   "source": [
    "BASE_URL = 'https://www.mercari.com'\n",
    "KEYWORD = \"imac\"\n",
    "url = BASE_URL + '/jp/search/?keyword=' + KEYWORD + '&status_trading_sold_out=1'\n"
   ]
  },
  {
   "cell_type": "code",
   "execution_count": 23,
   "id": "2d2139a1",
   "metadata": {},
   "outputs": [
    {
     "name": "stderr",
     "output_type": "stream",
     "text": [
      "/var/folders/wg/xbnl6nw130q8942c8kth8gmc0000gn/T/ipykernel_68066/655503263.py:7: DeprecationWarning: desired_capabilities has been deprecated, please pass in an Options object with options kwarg\n",
      "  driver = webdriver.Remote(\n"
     ]
    },
    {
     "name": "stdout",
     "output_type": "stream",
     "text": [
      "https://jp.mercari.com/search?keyword=imac&status_trading_sold_out=1\n",
      "Quit\n"
     ]
    }
   ],
   "source": [
    "import time\n",
    "from selenium import webdriver\n",
    "from bs4 import BeautifulSoup\n",
    "\n",
    "options = webdriver.ChromeOptions()\n",
    "options.add_argument('--headless')\n",
    "driver = webdriver.Remote(\n",
    "    command_executor='http://localhost:4444/wd/hub',\n",
    "    desired_capabilities=options.to_capabilities(),\n",
    "    options=options,\n",
    ")\n",
    "\n",
    "# ============================\n",
    "\n",
    "driver.get(url)\n",
    "print(driver.current_url)\n",
    "time.sleep(5)\n",
    "\n",
    "html = driver.page_source.encode('utf-8')\n",
    "soup = BeautifulSoup(html, \"html.parser\")\n",
    "\n",
    "driver.quit()\n",
    "print(\"Quit\")"
   ]
  },
  {
   "cell_type": "code",
   "execution_count": 27,
   "id": "1ccbbf16",
   "metadata": {},
   "outputs": [
    {
     "name": "stdout",
     "output_type": "stream",
     "text": [
      "#item_urls:  120\n"
     ]
    }
   ],
   "source": [
    "item_urls = []\n",
    "for a in soup.find_all(\"a\"):\n",
    "    href = a.get(\"href\")\n",
    "    if \"item\" in href:\n",
    "        item_url = f\"https://jp.mercari.com/{href}\"\n",
    "        item_urls.append(item_url)\n",
    "        \n",
    "print(\"#item_urls: \", len(item_urls))"
   ]
  },
  {
   "cell_type": "code",
   "execution_count": null,
   "id": "912a455e",
   "metadata": {},
   "outputs": [],
   "source": []
  }
 ],
 "metadata": {
  "kernelspec": {
   "display_name": "Python 3 (ipykernel)",
   "language": "python",
   "name": "python3"
  },
  "language_info": {
   "codemirror_mode": {
    "name": "ipython",
    "version": 3
   },
   "file_extension": ".py",
   "mimetype": "text/x-python",
   "name": "python",
   "nbconvert_exporter": "python",
   "pygments_lexer": "ipython3",
   "version": "3.9.12"
  }
 },
 "nbformat": 4,
 "nbformat_minor": 5
}
