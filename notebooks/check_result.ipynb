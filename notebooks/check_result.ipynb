{
 "cells": [
  {
   "cell_type": "code",
   "execution_count": null,
   "id": "dd74c810",
   "metadata": {},
   "outputs": [],
   "source": [
    "import pandas as pd\n",
    "\n",
    "import seaborn as sns\n",
    "import matplotlib.pyplot as plt\n",
    "sns.set_theme(style=\"ticks\")"
   ]
  },
  {
   "cell_type": "code",
   "execution_count": null,
   "id": "f72de29c",
   "metadata": {},
   "outputs": [],
   "source": [
    "!ls"
   ]
  },
  {
   "cell_type": "markdown",
   "id": "836a6ac2",
   "metadata": {},
   "source": [
    "# load メルカリデータ"
   ]
  },
  {
   "cell_type": "code",
   "execution_count": null,
   "id": "fdf36e2f",
   "metadata": {},
   "outputs": [],
   "source": [
    "csv = \"./data/mercari_ルンバ_202210231444.csv\"\n",
    "df = pd.read_csv(csv)\n",
    "df.columns = [\"name\", \"price\", \"url\"]\n",
    "df = df[[\"name\", \"price\"]]"
   ]
  },
  {
   "cell_type": "code",
   "execution_count": null,
   "id": "52e981eb",
   "metadata": {},
   "outputs": [],
   "source": [
    "import unicodedata\n",
    "\n",
    "# df[\"name_org\"] = df[\"name\"]\n",
    "# df[\"name\"] = unicodedata.normalize(\"NFKC\", df[\"name\"])\n",
    "\n",
    "df[\"name\"] = df[\"name\"].apply(lambda x: unicodedata.normalize(\"NFKC\",x))\n",
    "df[\"junk\"] = df[\"name\"].str.contains(\"ジャンク\")\n",
    "df\n"
   ]
  },
  {
   "cell_type": "code",
   "execution_count": null,
   "id": "2322e5f0",
   "metadata": {},
   "outputs": [],
   "source": []
  },
  {
   "cell_type": "code",
   "execution_count": null,
   "id": "cddfadb4",
   "metadata": {},
   "outputs": [],
   "source": [
    "# import re\n",
    "\n",
    "# import unicodedata\n",
    "# s = \"１２３①②③,㍻㍉㌦㎡㈱№,ａｂｃＡＢＣ,Å🅱©,123abcABC,＜＞,アイウエオｶｷｸｹｺ\"\n",
    "# unicodedata.normalize(\"NFKC\", s)\n",
    "\n",
    "# power_words = [\"irobot\", \"iroboot\", \"アイロボット\", \"ルンバ\", \"roomba\", \"リモコン\", \"交換部品\", \"付属品\"]\n",
    "# power_words += [\"バッテリー\", \"バーチャルウォール\", \"フィルター\", \"ブラシ\"]\n",
    "# power_words += [\n",
    "#     \"i3\", \"i7\", \"s9\", \"e5\", \"j7\",\n",
    "#     \"500シリーズ\", \"600シリーズ\", \"700シリーズ\", \"800シリーズ\",\n",
    "# ]\n",
    "# power_words += [\"中古\", \"ジャンク\"]\n",
    "\n",
    "# drop_words = [\"(\", \")\", \"[\", \"]\", \"［\", \"］\", \"/\",\n",
    "#                 \"、\", \"。\", \"【\", \"】\", \"の画像\" ]\n",
    "\n",
    "\n",
    "# pattern = r'^(0|[1-9]\\d*|[1-9]\\d{0,2}(,\\d{3})+)円'\n",
    "\n",
    "\n",
    "# keywords = []\n",
    "# for r in df.name:\n",
    "#     r = unicodedata.normalize(\"NFKC\", r)\n",
    "#     r = r.lower()\n",
    "\n",
    "#     for w in power_words:\n",
    "#         r = r.replace(w, f\" {w} \")\n",
    "\n",
    "#     for w in drop_words:\n",
    "#         r = r.replace(w, \" \")\n",
    "    \n",
    "#     r = re.sub(r'[\\d,]+円', \"0円\", r) # 1,xxx円\n",
    "\n",
    "#     ws = [s.strip() for s in r.split()]\n",
    "\n",
    "#     # XX年\n",
    "#     for i in range(len(ws)):\n",
    "\n",
    "#         s = re.findall(r'^1[0-9]年', ws[i])\n",
    "#         if len(s)>0:\n",
    "#             ws[i] = f\" 20{ws[i][:2]}年 <-{ws[i]}(1) \"\n",
    "\n",
    "#         # XX年\n",
    "#         r = ws[i]\n",
    "#         finds = re.findall(r'20[0-3][0-9]年', r)\n",
    "#         if len(finds)>0:\n",
    "#             ws[i] = f\" {finds[0]} <-{r}(2)\"\n",
    "\n",
    "\n",
    "\n",
    "#     keywords += ws\n",
    "\n",
    "# sr_keywords = pd.Series(keywords).drop_duplicates().sort_values()\n",
    "# # .unique().tolist()\n",
    "\n",
    "# sr_keywords.to_csv(\"./data/mercari_ルンバ_202210231444_keywords.csv\", index=False)"
   ]
  },
  {
   "cell_type": "code",
   "execution_count": null,
   "id": "372ba153",
   "metadata": {},
   "outputs": [],
   "source": [
    "import re\n",
    "class ModelYear:\n",
    "    def __init__(self, year_min, year_max):\n",
    "        self.min = year_min\n",
    "        self.max = year_max\n",
    "\n",
    "    def parse(self, s):\n",
    "\n",
    "        years = []\n",
    "\n",
    "        ss = re.findall(r'20[0-1][0-9]年', s)\n",
    "        if len(ss)>0:\n",
    "            year = ss[0].replace(\"年\", \"\")\n",
    "            years.append(year)\n",
    "\n",
    "        ss = re.findall(r'202[0-2]年', s)\n",
    "        if len(ss)>0:\n",
    "            year = ss[0].replace(\"年\", \"\")\n",
    "            years.append(year)\n",
    "\n",
    "        years = [int(y) for y in years]\n",
    "        years = [ y for y in years if self.min <= y <= self.max]\n",
    "\n",
    "        if len(years)>0:\n",
    "            year = min(years)\n",
    "            return int(year)\n",
    "\n",
    "    @staticmethod\n",
    "    def _test():\n",
    "        my = ModelYear(2000, 2022)\n",
    "        est = my.parse(\"IROBOT  2021年最新ロボット掃除機ルンバ 2009  i3＋ i3550の画像 80,000円\")\n",
    "        assert int(est) == 2021, est\n",
    "\n",
    "ModelYear._test()"
   ]
  },
  {
   "cell_type": "code",
   "execution_count": null,
   "id": "e101d04b",
   "metadata": {},
   "outputs": [],
   "source": [
    "df[\"year\"] = df[\"name\"].apply(ModelYear(2005, 2022).parse)\n",
    "df"
   ]
  },
  {
   "cell_type": "code",
   "execution_count": null,
   "id": "b4b11154",
   "metadata": {},
   "outputs": [],
   "source": [
    "class ModelNumber:\n",
    "\n",
    "    def parse(self, s):\n",
    "\n",
    "        # 金額除去\n",
    "        s = re.sub(r'[\\d,]+円', \"0円\", s) # 1,xxx円\n",
    "        \n",
    "        # 数字だけ取り出し\n",
    "        bufs = []\n",
    "        nums = re.findall(r\"\\d+\", s)\n",
    "        for num in nums:\n",
    "            \n",
    "            if num in [\"500\", \"600\", \"700\", \"800\", \"900\"]:\n",
    "                continue\n",
    "\n",
    "            if len(num) < 3:\n",
    "                continue\n",
    "            \n",
    "            if len(num) == 3:\n",
    "                bufs.append(num)\n",
    "                continue\n",
    "            \n",
    "            if len(num) == 6:\n",
    "                num = num.replace(\"060\", \"\")\n",
    "                bufs.append(num)\n",
    "                continue\n",
    "        \n",
    "        bufs = [b for b in bufs if int(b) >= 500]\n",
    "\n",
    "        bufs = list(set(bufs))\n",
    "\n",
    "        if len(bufs)>0:\n",
    "            return bufs[0]\n",
    "        else:\n",
    "            return None\n",
    "\n",
    "\n",
    "    @staticmethod\n",
    "    def _test():\n",
    "        mn = ModelNumber()\n",
    "        est = mn.parse(\"ルンバ i7 ロボット掃除機 アイロボット i715060【新品・未開封】の画像 46,300円\t\")\n",
    "        assert est == \"715\", est\n",
    "\n",
    "# ModelNumber._test()"
   ]
  },
  {
   "cell_type": "code",
   "execution_count": null,
   "id": "8664f9a1",
   "metadata": {},
   "outputs": [],
   "source": [
    "df[\"model\"] = df[\"name\"].apply(ModelNumber().parse)\n",
    "df[\"mid_model\"] = df[\"model\"].apply(lambda x: int(int(x[:2])*10) if x is not None else None)\n",
    "df[\"big_model\"] = df[\"model\"].apply(lambda x: int(int(x[:1])*100) if x is not None else None)\n",
    "\n",
    "\n",
    "df.to_csv(\"df_model.csv\", index=False)\n",
    "\n",
    "df.sample(20)\n"
   ]
  },
  {
   "cell_type": "code",
   "execution_count": null,
   "id": "8a7fabea",
   "metadata": {},
   "outputs": [],
   "source": [
    "# yearチェック\n",
    "dfp = df.sort_values(\"year\").dropna(subset=[\"year\"])\n",
    "\n",
    "dfp.to_csv(\"df.csv\", index=False)\n",
    "\n",
    "dfp"
   ]
  },
  {
   "cell_type": "markdown",
   "id": "5e1e5b38",
   "metadata": {},
   "source": [
    "# カシカ"
   ]
  },
  {
   "cell_type": "code",
   "execution_count": null,
   "id": "2e520b82",
   "metadata": {},
   "outputs": [],
   "source": [
    "ax = plt.subplots(figsize=(12, 4))\n",
    "ax = sns.boxplot(x=\"year\", y=\"price\", data=df,\n",
    "            whis=[0, 100], width=.9, palette=\"vlag\")\n",
    "\n",
    "sns.stripplot(x=\"year\", y=\"price\", data=df, \n",
    "              size=4, \n",
    "              color=\".3\",\n",
    "               linewidth=0)\n",
    "\n",
    "ax.xaxis.grid(True)\n",
    "sns.despine(trim=True, left=True)\n",
    "\n"
   ]
  },
  {
   "cell_type": "code",
   "execution_count": null,
   "id": "3af8a1ef",
   "metadata": {},
   "outputs": [],
   "source": [
    "ax = plt.subplots(figsize=(30, 8))\n",
    "ax = sns.boxplot(x=\"model\", y=\"price\", data=df.sort_values(\"model\"),\n",
    "            whis=[0, 100], width=.9, palette=\"vlag\")\n",
    "\n",
    "sns.stripplot(x=\"model\", y=\"price\", data=df.sort_values(\"model\"),\n",
    "              size=4, \n",
    "              color=\".3\",\n",
    "               linewidth=0)\n",
    "\n",
    "ax.xaxis.grid(True)\n",
    "sns.despine(trim=True, left=True)\n",
    "\n",
    "plt.title(\"roomba\")\n",
    "\n",
    "plt.ylim(0, 80000)\n"
   ]
  },
  {
   "cell_type": "code",
   "execution_count": null,
   "id": "907e20e3",
   "metadata": {},
   "outputs": [],
   "source": [
    "ax = plt.subplots(figsize=(20, 8))\n",
    "ax = sns.boxplot(x=\"mid_model\", y=\"price\", data=df,\n",
    "            whis=[0, 100], width=.9, palette=\"vlag\")\n",
    "\n",
    "sns.stripplot(x=\"mid_model\", y=\"price\", data=df, \n",
    "              size=4, \n",
    "              color=\".3\",\n",
    "               linewidth=0)\n",
    "\n",
    "ax.xaxis.grid(True)\n",
    "sns.despine(trim=True, left=True)\n",
    "\n",
    "plt.title(\"roomba\")\n"
   ]
  },
  {
   "cell_type": "code",
   "execution_count": null,
   "id": "559cc085",
   "metadata": {},
   "outputs": [],
   "source": [
    "ax = plt.subplots(figsize=(20, 8))\n",
    "m = df[\"junk\"] == False\n",
    "ax = sns.boxplot(x=\"mid_model\", y=\"price\", data=df[m],\n",
    "            whis=[0, 100], width=.9, palette=\"vlag\")\n",
    "\n",
    "sns.stripplot(x=\"mid_model\", y=\"price\", data=df[m], \n",
    "              size=4, hue=\"junk\",\n",
    "              color=\".3\",\n",
    "               linewidth=0)\n",
    "\n",
    "ax.xaxis.grid(True)\n",
    "sns.despine(trim=True, left=True)\n",
    "\n",
    "plt.title(\"roomba\")\n"
   ]
  },
  {
   "cell_type": "code",
   "execution_count": null,
   "id": "761ea64a",
   "metadata": {},
   "outputs": [],
   "source": [
    "ax = plt.subplots(figsize=(15, 8))\n",
    "ax = sns.boxplot(x=\"big_model\", y=\"price\", data=df,\n",
    "            whis=[0, 100], width=.9, palette=\"vlag\")\n",
    "\n",
    "sns.stripplot(x=\"big_model\", y=\"price\", data=df, \n",
    "              size=4, \n",
    "              color=\".3\",\n",
    "               linewidth=0)\n",
    "\n",
    "ax.xaxis.grid(True)\n",
    "sns.despine(trim=True, left=True)\n",
    "\n",
    "plt.title(\"roomba\")\n"
   ]
  },
  {
   "cell_type": "code",
   "execution_count": null,
   "id": "5b203158",
   "metadata": {},
   "outputs": [],
   "source": [
    "ax = plt.subplots(figsize=(15, 8))\n",
    "ax = sns.boxplot(x=\"year\", y=\"price\", data=df,\n",
    "            whis=[0, 100], width=.9, palette=\"vlag\")\n",
    "\n",
    "sns.stripplot(x=\"year\", y=\"price\", data=df, \n",
    "              size=4, \n",
    "              color=\".3\",\n",
    "               linewidth=0)\n",
    "\n",
    "ax.xaxis.grid(True)\n",
    "sns.despine(trim=True, left=True)\n",
    "\n",
    "plt.title(\"roomba\")\n"
   ]
  },
  {
   "cell_type": "code",
   "execution_count": null,
   "id": "5afbb8f5",
   "metadata": {},
   "outputs": [],
   "source": []
  },
  {
   "cell_type": "code",
   "execution_count": null,
   "id": "fc1dbfa9",
   "metadata": {},
   "outputs": [],
   "source": [
    "m = (df[\"mid_model\"] == 760) | (df[\"mid_model\"] == 770)\n",
    "\n",
    "\n",
    "df[m].sort_values(\"price\")"
   ]
  },
  {
   "cell_type": "markdown",
   "id": "b3ed91d2",
   "metadata": {},
   "source": [
    "# Visualization"
   ]
  },
  {
   "cell_type": "code",
   "execution_count": null,
   "id": "21d322fd",
   "metadata": {},
   "outputs": [],
   "source": []
  },
  {
   "cell_type": "code",
   "execution_count": null,
   "id": "ed9ebad0",
   "metadata": {},
   "outputs": [],
   "source": [
    "plt.figure(figsize=(10, 5))\n",
    "df.price.hist(bins=100)\n",
    "_ = plt.title(csv)"
   ]
  },
  {
   "cell_type": "code",
   "execution_count": null,
   "id": "60ebaade",
   "metadata": {},
   "outputs": [],
   "source": []
  },
  {
   "cell_type": "code",
   "execution_count": null,
   "id": "81860425",
   "metadata": {},
   "outputs": [],
   "source": []
  },
  {
   "cell_type": "code",
   "execution_count": null,
   "id": "aec37811",
   "metadata": {},
   "outputs": [],
   "source": []
  }
 ],
 "metadata": {
  "kernelspec": {
   "display_name": "Python 3.7.9 64-bit ('3.7.9')",
   "language": "python",
   "name": "python3"
  },
  "language_info": {
   "codemirror_mode": {
    "name": "ipython",
    "version": 3
   },
   "file_extension": ".py",
   "mimetype": "text/x-python",
   "name": "python",
   "nbconvert_exporter": "python",
   "pygments_lexer": "ipython3",
   "version": "3.7.9"
  },
  "vscode": {
   "interpreter": {
    "hash": "f3456961a4dd4a78d864103b1991c97290b57855896f604011a42e281f91d506"
   }
  }
 },
 "nbformat": 4,
 "nbformat_minor": 5
}
